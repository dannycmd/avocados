{
 "cells": [
  {
   "cell_type": "markdown",
   "id": "288b189c",
   "metadata": {},
   "source": [
    "\n",
    "# Avocado Prices\n",
    "\n",
    "The aim of this notebook is to demonstrate the use of exploratory data analysis combined with hacker statistics and hypothesis testing to answer some questions about data on avocado sales in the United States.\n",
    "\n",
    "### Historical data on avocado prices and sales volume in multiple US markets\n",
    "\n",
    "https://www.kaggle.com/neuromusic/avocado-prices\n"
   ]
  },
  {
   "cell_type": "markdown",
   "id": "7a545fd6",
   "metadata": {},
   "source": [
    "Description of the data from the Hass Avocado Board:\n",
    "\n",
    "> The table below represents weekly 2018 retail scan data for National retail volume (units) and price. Retail scan data comes directly from retailers’ cash registers based on actual retail sales of Hass avocados. Starting in 2013, the table below reflects an expanded, multi-outlet retail data set. Multi-outlet reporting includes an aggregation of the following channels: grocery, mass, club, drug, dollar and military. The Average Price (of avocados) in the table reflects a per unit (per avocado) cost, even when multiple units (avocados) are sold in bags. The Product Lookup codes (PLU’s) in the table are only for Hass avocados. Other varieties of avocados (e.g. greenskins) are not included in this table."
   ]
  },
  {
   "cell_type": "markdown",
   "id": "dc91d8b3",
   "metadata": {},
   "source": [
    "- Date - The date of the observation\n",
    "- AveragePrice - the average price of a single avocado\n",
    "- type - conventional or organic\n",
    "- year - the year\n",
    "- Region - the city or region of the observation\n",
    "- Total Volume - Total number of avocados sold\n",
    "- 4046 - Total number of avocados with PLU 4046 sold\n",
    "- 4225 - Total number of avocados with PLU 4225 sold\n",
    "- 4770 - Total number of avocados with PLU 4770 sold"
   ]
  },
  {
   "cell_type": "markdown",
   "id": "6215d7f4",
   "metadata": {},
   "source": [
    "###### Questions:\n",
    "\n",
    "1. Is there a significant difference in average price between conventional and organic avocados?\n",
    "3. What are the cheapest and most expensive regions?\n",
    "4. How does the price vary with time (years, months, seasons)?"
   ]
  },
  {
   "cell_type": "code",
   "execution_count": 1,
   "id": "5649aa55",
   "metadata": {},
   "outputs": [],
   "source": [
    "import numpy as np\n",
    "import pandas as pd\n",
    "import matplotlib.pyplot as plt\n",
    "import seaborn as sns"
   ]
  },
  {
   "cell_type": "code",
   "execution_count": 2,
   "id": "12ccb4b6",
   "metadata": {},
   "outputs": [],
   "source": [
    "# Import the data into a pandas DataFrame\n",
    "avocados = pd.read_csv(\"avocado.csv\", header=0, index_col=0)"
   ]
  },
  {
   "cell_type": "code",
   "execution_count": 3,
   "id": "4c18ef87",
   "metadata": {
    "scrolled": false
   },
   "outputs": [
    {
     "data": {
      "text/plain": [
       "Date            False\n",
       "AveragePrice    False\n",
       "Total Volume    False\n",
       "4046            False\n",
       "4225            False\n",
       "4770            False\n",
       "Total Bags      False\n",
       "Small Bags      False\n",
       "Large Bags      False\n",
       "XLarge Bags     False\n",
       "type            False\n",
       "year            False\n",
       "region          False\n",
       "dtype: bool"
      ]
     },
     "execution_count": 3,
     "metadata": {},
     "output_type": "execute_result"
    }
   ],
   "source": [
    "# Check to see if there are any missing values in each column\n",
    "avocados.isna().any()"
   ]
  },
  {
   "cell_type": "code",
   "execution_count": 4,
   "id": "3e757db0",
   "metadata": {
    "scrolled": true
   },
   "outputs": [
    {
     "name": "stdout",
     "output_type": "stream",
     "text": [
      "<class 'pandas.core.frame.DataFrame'>\n",
      "Int64Index: 18249 entries, 0 to 11\n",
      "Data columns (total 13 columns):\n",
      " #   Column        Non-Null Count  Dtype  \n",
      "---  ------        --------------  -----  \n",
      " 0   Date          18249 non-null  object \n",
      " 1   AveragePrice  18249 non-null  float64\n",
      " 2   Total Volume  18249 non-null  float64\n",
      " 3   4046          18249 non-null  float64\n",
      " 4   4225          18249 non-null  float64\n",
      " 5   4770          18249 non-null  float64\n",
      " 6   Total Bags    18249 non-null  float64\n",
      " 7   Small Bags    18249 non-null  float64\n",
      " 8   Large Bags    18249 non-null  float64\n",
      " 9   XLarge Bags   18249 non-null  float64\n",
      " 10  type          18249 non-null  object \n",
      " 11  year          18249 non-null  int64  \n",
      " 12  region        18249 non-null  object \n",
      "dtypes: float64(9), int64(1), object(3)\n",
      "memory usage: 1.9+ MB\n"
     ]
    }
   ],
   "source": [
    "# Print info about columns\n",
    "avocados.info()"
   ]
  },
  {
   "cell_type": "markdown",
   "id": "55d4ef95",
   "metadata": {},
   "source": [
    "+ There are a total of 18249 observations and 12 variables"
   ]
  },
  {
   "cell_type": "code",
   "execution_count": 5,
   "id": "aaa4c147",
   "metadata": {
    "scrolled": true
   },
   "outputs": [],
   "source": [
    "# Rename product number columns\n",
    "avocados = avocados.rename({\"4046\": \"Small / Medium\",\n",
    "                            \"4225\": \"Large\",\n",
    "                            \"4770\": \"Extra Large\"}, axis=\"columns\")"
   ]
  },
  {
   "cell_type": "code",
   "execution_count": 6,
   "id": "055870d3",
   "metadata": {},
   "outputs": [],
   "source": [
    "# Convert \"Date\" column to datetime type to make use of dt methods\n",
    "avocados[\"Date\"] = pd.to_datetime(avocados[\"Date\"])"
   ]
  },
  {
   "cell_type": "code",
   "execution_count": 7,
   "id": "4a63e607",
   "metadata": {
    "scrolled": false
   },
   "outputs": [
    {
     "data": {
      "text/html": [
       "<div>\n",
       "<style scoped>\n",
       "    .dataframe tbody tr th:only-of-type {\n",
       "        vertical-align: middle;\n",
       "    }\n",
       "\n",
       "    .dataframe tbody tr th {\n",
       "        vertical-align: top;\n",
       "    }\n",
       "\n",
       "    .dataframe thead th {\n",
       "        text-align: right;\n",
       "    }\n",
       "</style>\n",
       "<table border=\"1\" class=\"dataframe\">\n",
       "  <thead>\n",
       "    <tr style=\"text-align: right;\">\n",
       "      <th></th>\n",
       "      <th>Date</th>\n",
       "      <th>AveragePrice</th>\n",
       "      <th>Total Volume</th>\n",
       "      <th>Small / Medium</th>\n",
       "      <th>Large</th>\n",
       "      <th>Extra Large</th>\n",
       "      <th>Total Bags</th>\n",
       "      <th>Small Bags</th>\n",
       "      <th>Large Bags</th>\n",
       "      <th>XLarge Bags</th>\n",
       "      <th>type</th>\n",
       "      <th>year</th>\n",
       "      <th>region</th>\n",
       "    </tr>\n",
       "  </thead>\n",
       "  <tbody>\n",
       "    <tr>\n",
       "      <th>51</th>\n",
       "      <td>2015-01-04</td>\n",
       "      <td>1.75</td>\n",
       "      <td>27365.89</td>\n",
       "      <td>9307.34</td>\n",
       "      <td>3844.81</td>\n",
       "      <td>615.28</td>\n",
       "      <td>13598.46</td>\n",
       "      <td>13061.10</td>\n",
       "      <td>537.36</td>\n",
       "      <td>0.0</td>\n",
       "      <td>organic</td>\n",
       "      <td>2015</td>\n",
       "      <td>Southeast</td>\n",
       "    </tr>\n",
       "    <tr>\n",
       "      <th>51</th>\n",
       "      <td>2015-01-04</td>\n",
       "      <td>1.49</td>\n",
       "      <td>17723.17</td>\n",
       "      <td>1189.35</td>\n",
       "      <td>15628.27</td>\n",
       "      <td>0.00</td>\n",
       "      <td>905.55</td>\n",
       "      <td>905.55</td>\n",
       "      <td>0.00</td>\n",
       "      <td>0.0</td>\n",
       "      <td>organic</td>\n",
       "      <td>2015</td>\n",
       "      <td>Chicago</td>\n",
       "    </tr>\n",
       "    <tr>\n",
       "      <th>51</th>\n",
       "      <td>2015-01-04</td>\n",
       "      <td>1.68</td>\n",
       "      <td>2896.72</td>\n",
       "      <td>161.68</td>\n",
       "      <td>206.96</td>\n",
       "      <td>0.00</td>\n",
       "      <td>2528.08</td>\n",
       "      <td>2528.08</td>\n",
       "      <td>0.00</td>\n",
       "      <td>0.0</td>\n",
       "      <td>organic</td>\n",
       "      <td>2015</td>\n",
       "      <td>HarrisburgScranton</td>\n",
       "    </tr>\n",
       "    <tr>\n",
       "      <th>51</th>\n",
       "      <td>2015-01-04</td>\n",
       "      <td>1.52</td>\n",
       "      <td>54956.80</td>\n",
       "      <td>3013.04</td>\n",
       "      <td>35456.88</td>\n",
       "      <td>1561.70</td>\n",
       "      <td>14925.18</td>\n",
       "      <td>11264.80</td>\n",
       "      <td>3660.38</td>\n",
       "      <td>0.0</td>\n",
       "      <td>conventional</td>\n",
       "      <td>2015</td>\n",
       "      <td>Pittsburgh</td>\n",
       "    </tr>\n",
       "    <tr>\n",
       "      <th>51</th>\n",
       "      <td>2015-01-04</td>\n",
       "      <td>1.64</td>\n",
       "      <td>1505.12</td>\n",
       "      <td>1.27</td>\n",
       "      <td>1129.50</td>\n",
       "      <td>0.00</td>\n",
       "      <td>374.35</td>\n",
       "      <td>186.67</td>\n",
       "      <td>187.68</td>\n",
       "      <td>0.0</td>\n",
       "      <td>organic</td>\n",
       "      <td>2015</td>\n",
       "      <td>Boise</td>\n",
       "    </tr>\n",
       "  </tbody>\n",
       "</table>\n",
       "</div>"
      ],
      "text/plain": [
       "         Date  AveragePrice  Total Volume  Small / Medium     Large  \\\n",
       "51 2015-01-04          1.75      27365.89         9307.34   3844.81   \n",
       "51 2015-01-04          1.49      17723.17         1189.35  15628.27   \n",
       "51 2015-01-04          1.68       2896.72          161.68    206.96   \n",
       "51 2015-01-04          1.52      54956.80         3013.04  35456.88   \n",
       "51 2015-01-04          1.64       1505.12            1.27   1129.50   \n",
       "\n",
       "    Extra Large  Total Bags  Small Bags  Large Bags  XLarge Bags  \\\n",
       "51       615.28    13598.46    13061.10      537.36          0.0   \n",
       "51         0.00      905.55      905.55        0.00          0.0   \n",
       "51         0.00     2528.08     2528.08        0.00          0.0   \n",
       "51      1561.70    14925.18    11264.80     3660.38          0.0   \n",
       "51         0.00      374.35      186.67      187.68          0.0   \n",
       "\n",
       "            type  year              region  \n",
       "51       organic  2015           Southeast  \n",
       "51       organic  2015             Chicago  \n",
       "51       organic  2015  HarrisburgScranton  \n",
       "51  conventional  2015          Pittsburgh  \n",
       "51       organic  2015               Boise  "
      ]
     },
     "execution_count": 7,
     "metadata": {},
     "output_type": "execute_result"
    }
   ],
   "source": [
    "# View the first few rows of the dataset, sorted by date\n",
    "avocados.sort_values(\"Date\").head()"
   ]
  },
  {
   "cell_type": "markdown",
   "id": "747bc95a",
   "metadata": {},
   "source": [
    "### Exploratory Data Analysis"
   ]
  },
  {
   "cell_type": "code",
   "execution_count": 8,
   "id": "8821fb65",
   "metadata": {
    "scrolled": true
   },
   "outputs": [
    {
     "data": {
      "text/html": [
       "<style type=\"text/css\">\n",
       "#T_b4953_row0_col0, #T_b4953_row1_col1, #T_b4953_row2_col2, #T_b4953_row3_col3, #T_b4953_row4_col4, #T_b4953_row5_col5, #T_b4953_row6_col6, #T_b4953_row7_col7, #T_b4953_row8_col8, #T_b4953_row9_col9 {\n",
       "  background-color: #b40426;\n",
       "  color: #f1f1f1;\n",
       "}\n",
       "#T_b4953_row0_col1, #T_b4953_row0_col2, #T_b4953_row0_col3, #T_b4953_row0_col4, #T_b4953_row0_col5, #T_b4953_row0_col6, #T_b4953_row0_col7, #T_b4953_row0_col8, #T_b4953_row2_col0, #T_b4953_row4_col9 {\n",
       "  background-color: #3b4cc0;\n",
       "  color: #f1f1f1;\n",
       "}\n",
       "#T_b4953_row0_col9 {\n",
       "  background-color: #6282ea;\n",
       "  color: #f1f1f1;\n",
       "}\n",
       "#T_b4953_row1_col0 {\n",
       "  background-color: #3e51c5;\n",
       "  color: #f1f1f1;\n",
       "}\n",
       "#T_b4953_row1_col2, #T_b4953_row2_col1 {\n",
       "  background-color: #ba162b;\n",
       "  color: #f1f1f1;\n",
       "}\n",
       "#T_b4953_row1_col3, #T_b4953_row3_col1 {\n",
       "  background-color: #bb1b2c;\n",
       "  color: #f1f1f1;\n",
       "}\n",
       "#T_b4953_row1_col4, #T_b4953_row4_col1 {\n",
       "  background-color: #d85646;\n",
       "  color: #f1f1f1;\n",
       "}\n",
       "#T_b4953_row1_col5 {\n",
       "  background-color: #c0282f;\n",
       "  color: #f1f1f1;\n",
       "}\n",
       "#T_b4953_row1_col6, #T_b4953_row5_col1, #T_b4953_row6_col1 {\n",
       "  background-color: #be242e;\n",
       "  color: #f1f1f1;\n",
       "}\n",
       "#T_b4953_row1_col7 {\n",
       "  background-color: #d75445;\n",
       "  color: #f1f1f1;\n",
       "}\n",
       "#T_b4953_row1_col8 {\n",
       "  background-color: #f18f71;\n",
       "  color: #f1f1f1;\n",
       "}\n",
       "#T_b4953_row1_col9 {\n",
       "  background-color: #4a63d3;\n",
       "  color: #f1f1f1;\n",
       "}\n",
       "#T_b4953_row2_col3, #T_b4953_row2_col6, #T_b4953_row5_col2 {\n",
       "  background-color: #cb3e38;\n",
       "  color: #f1f1f1;\n",
       "}\n",
       "#T_b4953_row2_col4 {\n",
       "  background-color: #e26952;\n",
       "  color: #f1f1f1;\n",
       "}\n",
       "#T_b4953_row2_col5 {\n",
       "  background-color: #cc403a;\n",
       "  color: #f1f1f1;\n",
       "}\n",
       "#T_b4953_row2_col7, #T_b4953_row4_col2 {\n",
       "  background-color: #e16751;\n",
       "  color: #f1f1f1;\n",
       "}\n",
       "#T_b4953_row2_col8 {\n",
       "  background-color: #f5a081;\n",
       "  color: #000000;\n",
       "}\n",
       "#T_b4953_row2_col9 {\n",
       "  background-color: #455cce;\n",
       "  color: #f1f1f1;\n",
       "}\n",
       "#T_b4953_row3_col0, #T_b4953_row6_col0, #T_b4953_row7_col0 {\n",
       "  background-color: #4358cb;\n",
       "  color: #f1f1f1;\n",
       "}\n",
       "#T_b4953_row3_col2, #T_b4953_row6_col2 {\n",
       "  background-color: #ca3b37;\n",
       "  color: #f1f1f1;\n",
       "}\n",
       "#T_b4953_row3_col4, #T_b4953_row4_col3 {\n",
       "  background-color: #d55042;\n",
       "  color: #f1f1f1;\n",
       "}\n",
       "#T_b4953_row3_col5, #T_b4953_row5_col3 {\n",
       "  background-color: #d0473d;\n",
       "  color: #f1f1f1;\n",
       "}\n",
       "#T_b4953_row3_col6, #T_b4953_row6_col3 {\n",
       "  background-color: #cd423b;\n",
       "  color: #f1f1f1;\n",
       "}\n",
       "#T_b4953_row3_col7, #T_b4953_row7_col3 {\n",
       "  background-color: #e67259;\n",
       "  color: #f1f1f1;\n",
       "}\n",
       "#T_b4953_row3_col8 {\n",
       "  background-color: #f6a586;\n",
       "  color: #000000;\n",
       "}\n",
       "#T_b4953_row3_col9, #T_b4953_row4_col0, #T_b4953_row5_col0 {\n",
       "  background-color: #4257c9;\n",
       "  color: #f1f1f1;\n",
       "}\n",
       "#T_b4953_row4_col5, #T_b4953_row5_col4 {\n",
       "  background-color: #e97a5f;\n",
       "  color: #f1f1f1;\n",
       "}\n",
       "#T_b4953_row4_col6, #T_b4953_row6_col4, #T_b4953_row8_col5, #T_b4953_row8_col6 {\n",
       "  background-color: #e7745b;\n",
       "  color: #f1f1f1;\n",
       "}\n",
       "#T_b4953_row4_col7, #T_b4953_row7_col4 {\n",
       "  background-color: #f59c7d;\n",
       "  color: #000000;\n",
       "}\n",
       "#T_b4953_row4_col8 {\n",
       "  background-color: #f7a889;\n",
       "  color: #000000;\n",
       "}\n",
       "#T_b4953_row5_col6, #T_b4953_row6_col5 {\n",
       "  background-color: #b50927;\n",
       "  color: #f1f1f1;\n",
       "}\n",
       "#T_b4953_row5_col7, #T_b4953_row7_col5 {\n",
       "  background-color: #c53334;\n",
       "  color: #f1f1f1;\n",
       "}\n",
       "#T_b4953_row5_col8, #T_b4953_row6_col8 {\n",
       "  background-color: #e9785d;\n",
       "  color: #f1f1f1;\n",
       "}\n",
       "#T_b4953_row5_col9 {\n",
       "  background-color: #5a78e4;\n",
       "  color: #f1f1f1;\n",
       "}\n",
       "#T_b4953_row6_col7, #T_b4953_row7_col6 {\n",
       "  background-color: #d1493f;\n",
       "  color: #f1f1f1;\n",
       "}\n",
       "#T_b4953_row6_col9 {\n",
       "  background-color: #5875e1;\n",
       "  color: #f1f1f1;\n",
       "}\n",
       "#T_b4953_row7_col1 {\n",
       "  background-color: #d65244;\n",
       "  color: #f1f1f1;\n",
       "}\n",
       "#T_b4953_row7_col2 {\n",
       "  background-color: #e0654f;\n",
       "  color: #f1f1f1;\n",
       "}\n",
       "#T_b4953_row7_col8 {\n",
       "  background-color: #f59d7e;\n",
       "  color: #000000;\n",
       "}\n",
       "#T_b4953_row7_col9 {\n",
       "  background-color: #5f7fe8;\n",
       "  color: #f1f1f1;\n",
       "}\n",
       "#T_b4953_row8_col0 {\n",
       "  background-color: #516ddb;\n",
       "  color: #f1f1f1;\n",
       "}\n",
       "#T_b4953_row8_col1 {\n",
       "  background-color: #f08a6c;\n",
       "  color: #f1f1f1;\n",
       "}\n",
       "#T_b4953_row8_col2, #T_b4953_row8_col7 {\n",
       "  background-color: #f4987a;\n",
       "  color: #000000;\n",
       "}\n",
       "#T_b4953_row8_col3 {\n",
       "  background-color: #f59f80;\n",
       "  color: #000000;\n",
       "}\n",
       "#T_b4953_row8_col4 {\n",
       "  background-color: #f6a283;\n",
       "  color: #000000;\n",
       "}\n",
       "#T_b4953_row8_col9 {\n",
       "  background-color: #5e7de7;\n",
       "  color: #f1f1f1;\n",
       "}\n",
       "#T_b4953_row9_col0 {\n",
       "  background-color: #8caffe;\n",
       "  color: #000000;\n",
       "}\n",
       "#T_b4953_row9_col1, #T_b4953_row9_col8 {\n",
       "  background-color: #7396f5;\n",
       "  color: #f1f1f1;\n",
       "}\n",
       "#T_b4953_row9_col2 {\n",
       "  background-color: #7295f4;\n",
       "  color: #f1f1f1;\n",
       "}\n",
       "#T_b4953_row9_col3 {\n",
       "  background-color: #6687ed;\n",
       "  color: #f1f1f1;\n",
       "}\n",
       "#T_b4953_row9_col4 {\n",
       "  background-color: #6180e9;\n",
       "  color: #f1f1f1;\n",
       "}\n",
       "#T_b4953_row9_col5 {\n",
       "  background-color: #80a3fa;\n",
       "  color: #f1f1f1;\n",
       "}\n",
       "#T_b4953_row9_col6 {\n",
       "  background-color: #7da0f9;\n",
       "  color: #f1f1f1;\n",
       "}\n",
       "#T_b4953_row9_col7 {\n",
       "  background-color: #82a6fb;\n",
       "  color: #f1f1f1;\n",
       "}\n",
       "</style>\n",
       "<table id=\"T_b4953_\">\n",
       "  <thead>\n",
       "    <tr>\n",
       "      <th class=\"blank level0\" >&nbsp;</th>\n",
       "      <th class=\"col_heading level0 col0\" >AveragePrice</th>\n",
       "      <th class=\"col_heading level0 col1\" >Total Volume</th>\n",
       "      <th class=\"col_heading level0 col2\" >Small / Medium</th>\n",
       "      <th class=\"col_heading level0 col3\" >Large</th>\n",
       "      <th class=\"col_heading level0 col4\" >Extra Large</th>\n",
       "      <th class=\"col_heading level0 col5\" >Total Bags</th>\n",
       "      <th class=\"col_heading level0 col6\" >Small Bags</th>\n",
       "      <th class=\"col_heading level0 col7\" >Large Bags</th>\n",
       "      <th class=\"col_heading level0 col8\" >XLarge Bags</th>\n",
       "      <th class=\"col_heading level0 col9\" >year</th>\n",
       "    </tr>\n",
       "  </thead>\n",
       "  <tbody>\n",
       "    <tr>\n",
       "      <th id=\"T_b4953_level0_row0\" class=\"row_heading level0 row0\" >AveragePrice</th>\n",
       "      <td id=\"T_b4953_row0_col0\" class=\"data row0 col0\" >1.000000</td>\n",
       "      <td id=\"T_b4953_row0_col1\" class=\"data row0 col1\" >-0.192752</td>\n",
       "      <td id=\"T_b4953_row0_col2\" class=\"data row0 col2\" >-0.208317</td>\n",
       "      <td id=\"T_b4953_row0_col3\" class=\"data row0 col3\" >-0.172928</td>\n",
       "      <td id=\"T_b4953_row0_col4\" class=\"data row0 col4\" >-0.179446</td>\n",
       "      <td id=\"T_b4953_row0_col5\" class=\"data row0 col5\" >-0.177088</td>\n",
       "      <td id=\"T_b4953_row0_col6\" class=\"data row0 col6\" >-0.174730</td>\n",
       "      <td id=\"T_b4953_row0_col7\" class=\"data row0 col7\" >-0.172940</td>\n",
       "      <td id=\"T_b4953_row0_col8\" class=\"data row0 col8\" >-0.117592</td>\n",
       "      <td id=\"T_b4953_row0_col9\" class=\"data row0 col9\" >0.093197</td>\n",
       "    </tr>\n",
       "    <tr>\n",
       "      <th id=\"T_b4953_level0_row1\" class=\"row_heading level0 row1\" >Total Volume</th>\n",
       "      <td id=\"T_b4953_row1_col0\" class=\"data row1 col0\" >-0.192752</td>\n",
       "      <td id=\"T_b4953_row1_col1\" class=\"data row1 col1\" >1.000000</td>\n",
       "      <td id=\"T_b4953_row1_col2\" class=\"data row1 col2\" >0.977863</td>\n",
       "      <td id=\"T_b4953_row1_col3\" class=\"data row1 col3\" >0.974181</td>\n",
       "      <td id=\"T_b4953_row1_col4\" class=\"data row1 col4\" >0.872202</td>\n",
       "      <td id=\"T_b4953_row1_col5\" class=\"data row1 col5\" >0.963047</td>\n",
       "      <td id=\"T_b4953_row1_col6\" class=\"data row1 col6\" >0.967238</td>\n",
       "      <td id=\"T_b4953_row1_col7\" class=\"data row1 col7\" >0.880640</td>\n",
       "      <td id=\"T_b4953_row1_col8\" class=\"data row1 col8\" >0.747157</td>\n",
       "      <td id=\"T_b4953_row1_col9\" class=\"data row1 col9\" >0.017193</td>\n",
       "    </tr>\n",
       "    <tr>\n",
       "      <th id=\"T_b4953_level0_row2\" class=\"row_heading level0 row2\" >Small / Medium</th>\n",
       "      <td id=\"T_b4953_row2_col0\" class=\"data row2 col0\" >-0.208317</td>\n",
       "      <td id=\"T_b4953_row2_col1\" class=\"data row2 col1\" >0.977863</td>\n",
       "      <td id=\"T_b4953_row2_col2\" class=\"data row2 col2\" >1.000000</td>\n",
       "      <td id=\"T_b4953_row2_col3\" class=\"data row2 col3\" >0.926110</td>\n",
       "      <td id=\"T_b4953_row2_col4\" class=\"data row2 col4\" >0.833389</td>\n",
       "      <td id=\"T_b4953_row2_col5\" class=\"data row2 col5\" >0.920057</td>\n",
       "      <td id=\"T_b4953_row2_col6\" class=\"data row2 col6\" >0.925280</td>\n",
       "      <td id=\"T_b4953_row2_col7\" class=\"data row2 col7\" >0.838645</td>\n",
       "      <td id=\"T_b4953_row2_col8\" class=\"data row2 col8\" >0.699377</td>\n",
       "      <td id=\"T_b4953_row2_col9\" class=\"data row2 col9\" >0.003353</td>\n",
       "    </tr>\n",
       "    <tr>\n",
       "      <th id=\"T_b4953_level0_row3\" class=\"row_heading level0 row3\" >Large</th>\n",
       "      <td id=\"T_b4953_row3_col0\" class=\"data row3 col0\" >-0.172928</td>\n",
       "      <td id=\"T_b4953_row3_col1\" class=\"data row3 col1\" >0.974181</td>\n",
       "      <td id=\"T_b4953_row3_col2\" class=\"data row3 col2\" >0.926110</td>\n",
       "      <td id=\"T_b4953_row3_col3\" class=\"data row3 col3\" >1.000000</td>\n",
       "      <td id=\"T_b4953_row3_col4\" class=\"data row3 col4\" >0.887855</td>\n",
       "      <td id=\"T_b4953_row3_col5\" class=\"data row3 col5\" >0.905787</td>\n",
       "      <td id=\"T_b4953_row3_col6\" class=\"data row3 col6\" >0.916031</td>\n",
       "      <td id=\"T_b4953_row3_col7\" class=\"data row3 col7\" >0.810015</td>\n",
       "      <td id=\"T_b4953_row3_col8\" class=\"data row3 col8\" >0.688809</td>\n",
       "      <td id=\"T_b4953_row3_col9\" class=\"data row3 col9\" >-0.009559</td>\n",
       "    </tr>\n",
       "    <tr>\n",
       "      <th id=\"T_b4953_level0_row4\" class=\"row_heading level0 row4\" >Extra Large</th>\n",
       "      <td id=\"T_b4953_row4_col0\" class=\"data row4 col0\" >-0.179446</td>\n",
       "      <td id=\"T_b4953_row4_col1\" class=\"data row4 col1\" >0.872202</td>\n",
       "      <td id=\"T_b4953_row4_col2\" class=\"data row4 col2\" >0.833389</td>\n",
       "      <td id=\"T_b4953_row4_col3\" class=\"data row4 col3\" >0.887855</td>\n",
       "      <td id=\"T_b4953_row4_col4\" class=\"data row4 col4\" >1.000000</td>\n",
       "      <td id=\"T_b4953_row4_col5\" class=\"data row4 col5\" >0.792314</td>\n",
       "      <td id=\"T_b4953_row4_col6\" class=\"data row4 col6\" >0.802733</td>\n",
       "      <td id=\"T_b4953_row4_col7\" class=\"data row4 col7\" >0.698471</td>\n",
       "      <td id=\"T_b4953_row4_col8\" class=\"data row4 col8\" >0.679861</td>\n",
       "      <td id=\"T_b4953_row4_col9\" class=\"data row4 col9\" >-0.036531</td>\n",
       "    </tr>\n",
       "    <tr>\n",
       "      <th id=\"T_b4953_level0_row5\" class=\"row_heading level0 row5\" >Total Bags</th>\n",
       "      <td id=\"T_b4953_row5_col0\" class=\"data row5 col0\" >-0.177088</td>\n",
       "      <td id=\"T_b4953_row5_col1\" class=\"data row5 col1\" >0.963047</td>\n",
       "      <td id=\"T_b4953_row5_col2\" class=\"data row5 col2\" >0.920057</td>\n",
       "      <td id=\"T_b4953_row5_col3\" class=\"data row5 col3\" >0.905787</td>\n",
       "      <td id=\"T_b4953_row5_col4\" class=\"data row5 col4\" >0.792314</td>\n",
       "      <td id=\"T_b4953_row5_col5\" class=\"data row5 col5\" >1.000000</td>\n",
       "      <td id=\"T_b4953_row5_col6\" class=\"data row5 col6\" >0.994335</td>\n",
       "      <td id=\"T_b4953_row5_col7\" class=\"data row5 col7\" >0.943009</td>\n",
       "      <td id=\"T_b4953_row5_col8\" class=\"data row5 col8\" >0.804233</td>\n",
       "      <td id=\"T_b4953_row5_col9\" class=\"data row5 col9\" >0.071552</td>\n",
       "    </tr>\n",
       "    <tr>\n",
       "      <th id=\"T_b4953_level0_row6\" class=\"row_heading level0 row6\" >Small Bags</th>\n",
       "      <td id=\"T_b4953_row6_col0\" class=\"data row6 col0\" >-0.174730</td>\n",
       "      <td id=\"T_b4953_row6_col1\" class=\"data row6 col1\" >0.967238</td>\n",
       "      <td id=\"T_b4953_row6_col2\" class=\"data row6 col2\" >0.925280</td>\n",
       "      <td id=\"T_b4953_row6_col3\" class=\"data row6 col3\" >0.916031</td>\n",
       "      <td id=\"T_b4953_row6_col4\" class=\"data row6 col4\" >0.802733</td>\n",
       "      <td id=\"T_b4953_row6_col5\" class=\"data row6 col5\" >0.994335</td>\n",
       "      <td id=\"T_b4953_row6_col6\" class=\"data row6 col6\" >1.000000</td>\n",
       "      <td id=\"T_b4953_row6_col7\" class=\"data row6 col7\" >0.902589</td>\n",
       "      <td id=\"T_b4953_row6_col8\" class=\"data row6 col8\" >0.806845</td>\n",
       "      <td id=\"T_b4953_row6_col9\" class=\"data row6 col9\" >0.063915</td>\n",
       "    </tr>\n",
       "    <tr>\n",
       "      <th id=\"T_b4953_level0_row7\" class=\"row_heading level0 row7\" >Large Bags</th>\n",
       "      <td id=\"T_b4953_row7_col0\" class=\"data row7 col0\" >-0.172940</td>\n",
       "      <td id=\"T_b4953_row7_col1\" class=\"data row7 col1\" >0.880640</td>\n",
       "      <td id=\"T_b4953_row7_col2\" class=\"data row7 col2\" >0.838645</td>\n",
       "      <td id=\"T_b4953_row7_col3\" class=\"data row7 col3\" >0.810015</td>\n",
       "      <td id=\"T_b4953_row7_col4\" class=\"data row7 col4\" >0.698471</td>\n",
       "      <td id=\"T_b4953_row7_col5\" class=\"data row7 col5\" >0.943009</td>\n",
       "      <td id=\"T_b4953_row7_col6\" class=\"data row7 col6\" >0.902589</td>\n",
       "      <td id=\"T_b4953_row7_col7\" class=\"data row7 col7\" >1.000000</td>\n",
       "      <td id=\"T_b4953_row7_col8\" class=\"data row7 col8\" >0.710858</td>\n",
       "      <td id=\"T_b4953_row7_col9\" class=\"data row7 col9\" >0.087891</td>\n",
       "    </tr>\n",
       "    <tr>\n",
       "      <th id=\"T_b4953_level0_row8\" class=\"row_heading level0 row8\" >XLarge Bags</th>\n",
       "      <td id=\"T_b4953_row8_col0\" class=\"data row8 col0\" >-0.117592</td>\n",
       "      <td id=\"T_b4953_row8_col1\" class=\"data row8 col1\" >0.747157</td>\n",
       "      <td id=\"T_b4953_row8_col2\" class=\"data row8 col2\" >0.699377</td>\n",
       "      <td id=\"T_b4953_row8_col3\" class=\"data row8 col3\" >0.688809</td>\n",
       "      <td id=\"T_b4953_row8_col4\" class=\"data row8 col4\" >0.679861</td>\n",
       "      <td id=\"T_b4953_row8_col5\" class=\"data row8 col5\" >0.804233</td>\n",
       "      <td id=\"T_b4953_row8_col6\" class=\"data row8 col6\" >0.806845</td>\n",
       "      <td id=\"T_b4953_row8_col7\" class=\"data row8 col7\" >0.710858</td>\n",
       "      <td id=\"T_b4953_row8_col8\" class=\"data row8 col8\" >1.000000</td>\n",
       "      <td id=\"T_b4953_row8_col9\" class=\"data row8 col9\" >0.081033</td>\n",
       "    </tr>\n",
       "    <tr>\n",
       "      <th id=\"T_b4953_level0_row9\" class=\"row_heading level0 row9\" >year</th>\n",
       "      <td id=\"T_b4953_row9_col0\" class=\"data row9 col0\" >0.093197</td>\n",
       "      <td id=\"T_b4953_row9_col1\" class=\"data row9 col1\" >0.017193</td>\n",
       "      <td id=\"T_b4953_row9_col2\" class=\"data row9 col2\" >0.003353</td>\n",
       "      <td id=\"T_b4953_row9_col3\" class=\"data row9 col3\" >-0.009559</td>\n",
       "      <td id=\"T_b4953_row9_col4\" class=\"data row9 col4\" >-0.036531</td>\n",
       "      <td id=\"T_b4953_row9_col5\" class=\"data row9 col5\" >0.071552</td>\n",
       "      <td id=\"T_b4953_row9_col6\" class=\"data row9 col6\" >0.063915</td>\n",
       "      <td id=\"T_b4953_row9_col7\" class=\"data row9 col7\" >0.087891</td>\n",
       "      <td id=\"T_b4953_row9_col8\" class=\"data row9 col8\" >0.081033</td>\n",
       "      <td id=\"T_b4953_row9_col9\" class=\"data row9 col9\" >1.000000</td>\n",
       "    </tr>\n",
       "  </tbody>\n",
       "</table>\n"
      ],
      "text/plain": [
       "<pandas.io.formats.style.Styler at 0x245ff17a970>"
      ]
     },
     "execution_count": 8,
     "metadata": {},
     "output_type": "execute_result"
    }
   ],
   "source": [
    "# View the correlation matrix\n",
    "corr = avocados.corr()\n",
    "corr.style.background_gradient(cmap='coolwarm')"
   ]
  },
  {
   "cell_type": "markdown",
   "id": "6050d262",
   "metadata": {},
   "source": [
    "Notes:\n",
    "+ Small / medium avocados and small bags appear to be most popular (due to their correlation with total volume)\n",
    "+ There is very little correlation between average price and year\n",
    "+ Large correlation between volumes of avocados and number of bags sold - for obvious reasons"
   ]
  },
  {
   "cell_type": "code",
   "execution_count": 9,
   "id": "78ac48f8",
   "metadata": {
    "scrolled": true
   },
   "outputs": [
    {
     "data": {
      "image/png": "[encoded data removed]",
      "text/plain": [
       "<Figure size 1080x360 with 12 Axes>"
      ]
     },
     "metadata": {},
     "output_type": "display_data"
    }
   ],
   "source": [
    "# Scatter plots of sizes of bags and sizes of avocados (x-axis) against average price\n",
    "# and total volume (y-axis) with linear regression model fit\n",
    "plt.style.use('ggplot')\n",
    "sns.pairplot(avocados, x_vars=[\"Small / Medium\", \"Large\", \"Extra Large\", \"Small Bags\", \"Large Bags\", \"XLarge Bags\"],\n",
    "             y_vars=[\"Total Volume\", \"AveragePrice\"], kind='reg')\n",
    "plt.show()"
   ]
  },
  {
   "cell_type": "markdown",
   "id": "946b36f1",
   "metadata": {},
   "source": [
    "+ The plots above show that there is little correlation between the number of bags sold and average price, and between the number avocados sold and average price.\n",
    "+ However, there is correlation between the number of bags sold and total volume, and between the number avocados sold and total volume. We can also see that the amount of correlation varies depending on the size of the avocados and the size of the bags, though it is hard to say which have the strongest correlation."
   ]
  },
  {
   "cell_type": "code",
   "execution_count": 10,
   "id": "6ef35240",
   "metadata": {
    "scrolled": true
   },
   "outputs": [
    {
     "data": {
      "image/png": "[encoded data removed]",
      "text/plain": [
       "<Figure size 432x288 with 1 Axes>"
      ]
     },
     "metadata": {},
     "output_type": "display_data"
    }
   ],
   "source": [
    "# Plot a kernel density estimate plot of \"AveragePrice\" to visualise its distribution\n",
    "sns.kdeplot(avocados[\"AveragePrice\"], fill=True)\n",
    "plt.xlabel(\"Average Price\")\n",
    "plt.ylabel(\"\")\n",
    "plt.show()"
   ]
  },
  {
   "cell_type": "code",
   "execution_count": 45,
   "id": "3127cab1",
   "metadata": {
    "scrolled": true
   },
   "outputs": [
    {
     "name": "stdout",
     "output_type": "stream",
     "text": [
      "95% of the 'AveragePrice' values fall between $0.75 and $2.3\n"
     ]
    }
   ],
   "source": [
    "# Calculate 2.5 and 97.5 percentiles\n",
    "percentiles = np.percentile(avocados[\"AveragePrice\"], [2.5, 97.5])\n",
    "print(f\"95% of the 'AveragePrice' values fall between ${percentiles[0]:.3} and ${percentiles[1]:.3}\")"
   ]
  },
  {
   "cell_type": "code",
   "execution_count": 12,
   "id": "5042baf7",
   "metadata": {
    "scrolled": true
   },
   "outputs": [
    {
     "data": {
      "image/png": "[encoded data removed]",
      "text/plain": [
       "<Figure size 432x288 with 1 Axes>"
      ]
     },
     "metadata": {},
     "output_type": "display_data"
    }
   ],
   "source": [
    "# Subset DataFrame for organic and conventional avocados\n",
    "organic_avgprice = avocados.query(\"type == 'organic'\")[\"AveragePrice\"]\n",
    "conventional_avgprice = avocados.query(\"type == 'conventional'\")[\"AveragePrice\"]\n",
    "\n",
    "# Plot kernel density estimate plots of \"AveragePrice\" for each type of avocado\n",
    "sns.kdeplot(organic_avgprice, fill=True, label=\"organic\")\n",
    "sns.kdeplot(conventional_avgprice, fill=True, label=\"conventional\")\n",
    "plt.xlabel(\"AveragePrice [$]\")\n",
    "plt.ylabel(\"\")\n",
    "plt.legend()\n",
    "plt.show()"
   ]
  },
  {
   "cell_type": "code",
   "execution_count": 42,
   "id": "e6238a3c",
   "metadata": {},
   "outputs": [
    {
     "name": "stdout",
     "output_type": "stream",
     "text": [
      "Mean AveragePrice for organic avocados is $1.65\n",
      "Mean AveragePrice for organic avocados is $1.16\n"
     ]
    }
   ],
   "source": [
    "print(f\"Mean AveragePrice for organic avocados is ${np.mean(organic_avgprice):.3}\")\n",
    "print(f\"Mean AveragePrice for organic avocados is ${np.mean(conventional_avgprice):.3}\")"
   ]
  },
  {
   "cell_type": "markdown",
   "id": "8c9104c8",
   "metadata": {},
   "source": [
    "+ We can see the average price of an organic avocado seems to greater than that of a conventional avocado\n",
    "+ There is also a greater range of organic avocado prices\n",
    "+ Next, we will calculate confidence intervals for the means of organic_avgprice and conventional_avgprice"
   ]
  },
  {
   "cell_type": "code",
   "execution_count": 13,
   "id": "b01c015c",
   "metadata": {},
   "outputs": [],
   "source": [
    "def replicate_means(data, amount=10000):\n",
    "    \"\"\"Takes an array and generates the specified amount of bootstrapped samples of the array, appending the means of these\n",
    "       bootstrapped samples to a list. Returns this list of bootstrap replicate means.\n",
    "    \"\"\"\n",
    "    means = []\n",
    "    \n",
    "    for i in range(amount):\n",
    "        bootstrap_sample = np.random.choice(data, len(data))\n",
    "        means.append(np.mean(bootstrap_sample))\n",
    "        \n",
    "    return np.array(means)"
   ]
  },
  {
   "cell_type": "code",
   "execution_count": 58,
   "id": "e031cd70",
   "metadata": {},
   "outputs": [
    {
     "data": {
      "image/png": "[encoded data removed]",
      "text/plain": [
       "<Figure size 432x288 with 2 Axes>"
      ]
     },
     "metadata": {},
     "output_type": "display_data"
    }
   ],
   "source": [
    "# Generate the bootsrap replicate means and show the distribution of these means\n",
    "organic_bootstrap_means, conventional_bootstrap_means = replicate_means(organic_avgprice), replicate_means(conventional_avgprice)\n",
    "\n",
    "fig, ax = plt.subplots(1, 2, sharey=True)\n",
    "fig.suptitle(\"Bootstrap replicates of the mean of AveragePrice\", fontsize=12)\n",
    "fig.supxlabel(\"AveragePrice [$]\")\n",
    "\n",
    "ax[0].set_title(\"Organic\", fontsize=10)\n",
    "sns.kdeplot(ax=ax[0], data=organic_bootstrap_means, fill=True)\n",
    "\n",
    "ax[1].set_title(\"Conventional\", fontsize=10)\n",
    "sns.kdeplot(ax=ax[1], data=conventional_bootstrap_means, fill=True)\n",
    "\n",
    "plt.show()"
   ]
  },
  {
   "cell_type": "code",
   "execution_count": 47,
   "id": "8ed4ebab",
   "metadata": {},
   "outputs": [
    {
     "name": "stdout",
     "output_type": "stream",
     "text": [
      "There is a 95% chance that the true mean AveragePrice for organic avocados lies in the interval $1.647 - $1.662\n",
      "There is a 95% chance that the true mean AveragePrice for conventional avocados lies in the interval $1.153 - $1.163\n"
     ]
    }
   ],
   "source": [
    "# Calculate 95% confidence intervals from the distributions of the means\n",
    "organic_mean_cf, conventional_mean_cf = np.percentile(organic_bootstrap_means, [2.5, 97.5]), np.percentile(conventional_bootstrap_means, [2.5, 97.5])\n",
    "print(f\"There is a 95% chance that the true mean AveragePrice for organic avocados lies in the interval ${organic_mean_cf[0]:.4} - ${organic_mean_cf[1]:.4}\")\n",
    "print(f\"There is a 95% chance that the true mean AveragePrice for conventional avocados lies in the interval ${conventional_mean_cf[0]:.4} - ${conventional_mean_cf[1]:.4}\")"
   ]
  },
  {
   "cell_type": "code",
   "execution_count": 36,
   "id": "d7d7e771",
   "metadata": {
    "scrolled": true
   },
   "outputs": [],
   "source": [
    "# Now calculate the same 95% confidence intervals but using the standard error of the mean\n",
    "# standard error = standard deviation / sqrt(n)\n",
    "organic_stderror = np.std(organic_avgprice) / np.sqrt(len(organic_avgprice))\n",
    "conventional_stderror = np.std(conventional_avgprice) / np.sqrt(len(conventional_avgprice))"
   ]
  },
  {
   "cell_type": "code",
   "execution_count": 62,
   "id": "a4303d6f",
   "metadata": {
    "scrolled": true
   },
   "outputs": [
    {
     "name": "stdout",
     "output_type": "stream",
     "text": [
      "There is a 95% chance that the true mean AveragePrice for organic avocados lies in the interval $1.65 - $1.658\n",
      "There is a 95% chance that the true mean AveragePrice for conventional avocados lies in the interval $1.155 - $1.161\n"
     ]
    }
   ],
   "source": [
    "print(f\"There is a 95% chance that the true mean AveragePrice for organic avocados lies in the interval ${np.mean(organic_avgprice) - organic_stderror:.4} - ${np.mean(organic_avgprice) + organic_stderror:.4}\")\n",
    "print(f\"There is a 95% chance that the true mean AveragePrice for conventional avocados lies in the interval ${np.mean(conventional_avgprice) - conventional_stderror:.4} - ${np.mean(conventional_avgprice) + conventional_stderror:.4}\")"
   ]
  },
  {
   "cell_type": "markdown",
   "id": "d3336a6e",
   "metadata": {},
   "source": [
    "+ The 95% confidence intervals calculated from the standard error of the mean are consistently smaller - perhaps this indicates that a larger number of bootstrap replicates should have been used\n",
    "+ We have now shown that the average price of organic and conventional avocados are almost certainly different - but we will next perform a hypothesis test anyway to demonstrate how this can be done with hacker statistics"
   ]
  },
  {
   "cell_type": "markdown",
   "id": "a86fc117",
   "metadata": {},
   "source": [
    "### Is there a significant difference in average price between conventional and organic avocados?"
   ]
  },
  {
   "cell_type": "code",
   "execution_count": null,
   "id": "b557d051",
   "metadata": {
    "scrolled": true
   },
   "outputs": [],
   "source": [
    "# Show the counts of each unique value in \"type\"\n",
    "avocados[\"type\"].value_counts()"
   ]
  },
  {
   "cell_type": "code",
   "execution_count": null,
   "id": "f9c76242",
   "metadata": {},
   "outputs": [],
   "source": [
    "def ecdf(data):\n",
    "    \"\"\"Function for producing x and y data for plotting empirical cumulative distribution functions\"\"\"\n",
    "    \n",
    "    y = np.linspace(0, 1, len(data))\n",
    "    x = np.sort(data)\n",
    "    \n",
    "    return x, y"
   ]
  },
  {
   "cell_type": "code",
   "execution_count": null,
   "id": "7e4f9d7a",
   "metadata": {},
   "outputs": [],
   "source": [
    "# Use a seed for pseudo-random generated numbers so the results can be reproduced\n",
    "np.random.seed(123)"
   ]
  },
  {
   "cell_type": "code",
   "execution_count": null,
   "id": "e48a18dc",
   "metadata": {},
   "outputs": [],
   "source": [
    "# Calculate ECDFs for organic and conventional avocados\n",
    "x_org, y_org = ecdf(organic_avgprice)\n",
    "x_conv, y_conv = ecdf(conventional_avgprice)\n",
    "\n",
    "# Sample from the normal distributions based on the means and standard deviations of the \n",
    "# average prices of organic and conventional avocados\n",
    "normal_org = np.random.normal(np.mean(organic_avgprice), np.std(organic_avgprice), 10000)\n",
    "normal_conv = np.random.normal(np.mean(conventional_avgprice), np.std(conventional_avgprice), 10000)\n",
    "\n",
    "# Calculate ECDFs for the normal distributions\n",
    "x_normal_org, y_normal_org = ecdf(normal_org)\n",
    "x_normal_conv, y_normal_conv = ecdf(normal_conv)"
   ]
  },
  {
   "cell_type": "code",
   "execution_count": null,
   "id": "2b7e0a91",
   "metadata": {
    "scrolled": false
   },
   "outputs": [],
   "source": [
    "# Plot the ECDFs\n",
    "fig, ax = plt.subplots()\n",
    "\n",
    "ax.scatter(x_org, y_org, c=\"r\", label=\"org\", alpha=0.3, s=1)\n",
    "ax.plot(x_normal_org, y_normal_org, c=\"k\")\n",
    "\n",
    "ax.scatter(x_conv, y_conv, c=\"b\", label=\"conv\", alpha=0.3, s=1)\n",
    "ax.plot(x_normal_conv, y_normal_conv, c=\"k\")\n",
    "\n",
    "ax.set_xlabel(\"Price [$]\")\n",
    "ax.set_ylabel(\"Percentage of observations\")\n",
    "ax.set_xlim([0,3.5])\n",
    "ax.set_ylim([0,1])\n",
    "plt.legend()\n",
    "plt.show()"
   ]
  },
  {
   "cell_type": "markdown",
   "id": "468116c4",
   "metadata": {},
   "source": [
    "+ The ECDFs for each type clearly show that the organic avocados appear to be the more expensive\n",
    "+ We can also see that the average price appears to follow a normal distribution\n",
    "+ We can use shuffling to test the null hypothesis that there is no difference in the mean price of organic and conventional avocados i.e. they are drawn from the same population."
   ]
  },
  {
   "cell_type": "code",
   "execution_count": null,
   "id": "9bb93b89",
   "metadata": {},
   "outputs": [],
   "source": [
    "def shuffle_data(x, y):\n",
    "    \"\"\"Takes two pandas Series, joins them together and shuffles them.\n",
    "    Then the shuffled data is split in two again and two pandas Series are returned.\n",
    "    \"\"\"\n",
    "    \n",
    "    joined = pd.concat([x, y])\n",
    "    joined = np.array(joined)\n",
    "    np.random.shuffle(joined)\n",
    "    \n",
    "    x = joined[:len(x)]\n",
    "    y = joined[len(x):]\n",
    "    \n",
    "    return x, y"
   ]
  },
  {
   "cell_type": "code",
   "execution_count": null,
   "id": "57a554d3",
   "metadata": {},
   "outputs": [],
   "source": [
    "# Calculate difference between means\n",
    "actual_diff = np.mean(organic_avgprice) - np.mean(conventional_avgprice)"
   ]
  },
  {
   "cell_type": "code",
   "execution_count": null,
   "id": "8dafc919",
   "metadata": {},
   "outputs": [],
   "source": [
    "def replicate_mean_diffs(x, y, amount=10000):\n",
    "    replicates = np.zeros(amount)\n",
    "    \n",
    "    for i in range(amount):\n",
    "        x_rep, y_rep = shuffle_data(x, y)\n",
    "        diff = np.mean(x_rep) - np.mean(y_rep)\n",
    "        replicates[i] = diff\n",
    "        \n",
    "    return replicates"
   ]
  },
  {
   "cell_type": "code",
   "execution_count": null,
   "id": "9a6f8740",
   "metadata": {},
   "outputs": [],
   "source": [
    "# Calculate array of difference between means replicates\n",
    "diff_replicates = replicate_mean_diffs(organic_avgprice, conventional_avgprice)"
   ]
  },
  {
   "cell_type": "code",
   "execution_count": null,
   "id": "a5c10eba",
   "metadata": {
    "scrolled": true
   },
   "outputs": [],
   "source": [
    "print(f\"Percentage of replicates with a difference greater than \\\n",
    "      equal to the actual difference is {sum(diff_replicates >= actual_diff) / len(diff_replicates)}%\")"
   ]
  },
  {
   "cell_type": "markdown",
   "id": "328452d2",
   "metadata": {},
   "source": [
    "+ With 10,000 reshuffles we can be sure that the difference in means is significant at the 99% confidence level\n",
    "+ Can also test the null hypothesis that there is no difference in the mean price of organic and conventional avocados with a t-test"
   ]
  },
  {
   "cell_type": "code",
   "execution_count": null,
   "id": "fbef841a",
   "metadata": {},
   "outputs": [],
   "source": [
    "from scipy.stats import ttest_ind\n",
    "\n",
    "ttest_ind, pval = ttest_ind(organic_avgprice, conventional_avgprice)\n",
    "\n",
    "print(f\"p-value is {pval}\")\n",
    "\n",
    "if pval < 0.05:\n",
    "    print(f\"p-value is less than 0.05 so we can reject the null hypothesis at the 95% confidence interval\")\n",
    "else:\n",
    "    print(f\"p-value is greater than 0.05 so we cannot reject the null hypothesis at the 95% confidence interval\")"
   ]
  },
  {
   "cell_type": "markdown",
   "id": "1ed2a43e",
   "metadata": {},
   "source": [
    "### What are the cheapest and most expensive regions?"
   ]
  },
  {
   "cell_type": "code",
   "execution_count": null,
   "id": "676f4adb",
   "metadata": {},
   "outputs": [],
   "source": [
    "# Plot \"AveragePrice\" of each type of avocado in each region\n",
    "plt.figure(figsize=(15, 22))\n",
    "sns.pointplot(data=avocados, x=\"AveragePrice\", y=\"region\", hue='type', join=False)\n",
    "plt.show()"
   ]
  },
  {
   "cell_type": "markdown",
   "id": "5ec7a134",
   "metadata": {},
   "source": [
    "+ This plot shows us that the cheapest avocados are in Phoenix Tucson and the most expensive avocados are in San Francisco and Hartford Springfield"
   ]
  },
  {
   "cell_type": "code",
   "execution_count": null,
   "id": "774b5e97",
   "metadata": {
    "scrolled": true
   },
   "outputs": [],
   "source": [
    "# List all the unique regions \n",
    "avocados.region.unique()"
   ]
  },
  {
   "cell_type": "markdown",
   "id": "d415ee88",
   "metadata": {},
   "source": [
    "+ We can see that the 'region' column includes a mix of cities, states and larger regions - we can create a new column that categorises the 'region' column into the larger regions\n",
    "\n",
    "+ Use 9 Census Bureau-designated divisions defined here: https://en.wikipedia.org/wiki/List_of_regions_of_the_United_States#Census_Bureau-designated_regions_and_divisions"
   ]
  },
  {
   "cell_type": "code",
   "execution_count": null,
   "id": "88b58559",
   "metadata": {},
   "outputs": [],
   "source": [
    "from IPython.display import Image\n",
    "Image(\"Census_Regions_and_Division_of_the_United_States.png\")"
   ]
  },
  {
   "cell_type": "code",
   "execution_count": null,
   "id": "4a74ec57",
   "metadata": {
    "scrolled": true
   },
   "outputs": [],
   "source": [
    "# Create a dictionary which groups every region into the 9 divisions\n",
    "divisions = {\n",
    "    \"Middle Atlantic\": [\"Albany\", \"Syracuse\", \"BuffaloRochester\",\n",
    "                        \"HarrisburgScranton\", \"NewYork\", \"Philadelphia\",\n",
    "                        \"Northeast\", \"Pittsburgh\"],\n",
    "    \"New England\": [\"Boston\", \"HartfordSpringfield\", \"Northeast\",\n",
    "                    \"NorthernNewEngland\"],\n",
    "    \"South Atlantic\": [\"Atlanta\", \"Tampa\", \"SouthCarolina\",\n",
    "                       \"Southeast\", \"RaleighGreensboro\", \"BaltimoreWashington\",\n",
    "                       \"Charlotte\", \"Jacksonville\", \"MiamiFtLauderdale\",\n",
    "                       \"Orlando\", \"RichmondNorfolk\", \"Roanoke\"],\n",
    "    \"East South Central\": [\"Louisville\", \"Midsouth\", \"Nashville\",\n",
    "                           \"Southeast\"],\n",
    "    \"East North Central\": [\"Chicago\", \"CincinnatiDayton\", \"Columbus\",\n",
    "                           \"Detroit\", \"GrandRapids\", \"GreatLakes\",\n",
    "                           \"Indianapolis\"],\n",
    "    \"West South Central\": [\"DallasFtWorth\", \"Houston\", \"NewOrleansMobile\",\n",
    "                           \"SouthCentral\", \"WestTexNewMexico\"],\n",
    "    \"West North Central\": [\"Plains\", \"StLouis\"],\n",
    "    \"Mountain\": [\"Boise\", \"Denver\", \"LasVegas\",\n",
    "                 \"PhoenixTucson\", \"West\"],\n",
    "    \"Pacific\": [\"California\", \"LosAngeles\", \"Portland\",\n",
    "                \"Sacramento\", \"Seattle\", \"SanDiego\",\n",
    "                \"SanFrancisco\", \"Spokane\", \"West\"]\n",
    "}"
   ]
  },
  {
   "cell_type": "code",
   "execution_count": null,
   "id": "82d41306",
   "metadata": {
    "scrolled": false
   },
   "outputs": [],
   "source": [
    "# Create a new column that indicates which division each observation is from\n",
    "def division_column(x):\n",
    "    for division in divisions.items():\n",
    "        if x in division[1]:\n",
    "            return division[0]\n",
    "        \n",
    "avocados[\"division\"] = avocados.region.apply(lambda x: division_column(x))"
   ]
  },
  {
   "cell_type": "code",
   "execution_count": null,
   "id": "f4389279",
   "metadata": {
    "scrolled": false
   },
   "outputs": [],
   "source": [
    "# Create box plots of \"AveragePrice\", grouped by division and then further split into different types of avocado\n",
    "plt.figure(figsize=(12, 12))\n",
    "ax = sns.boxplot(data=avocados, x=\"AveragePrice\", y=\"division\", hue=\"type\")\n",
    "plt.xlabel(\"Average Price [$]\")\n",
    "plt.ylabel(\"Census Bureau-designated division\")\n",
    "plt.show()"
   ]
  },
  {
   "cell_type": "markdown",
   "id": "1303cfa1",
   "metadata": {},
   "source": [
    "+ The plot shows that the division with the most expensive avocados is New England, and that the division with the cheapest avocados is West South Central\n",
    "+ Interestingly, in all divisions, the IQR of the average price of organic avocados is larger than that of conventional avocados\n",
    "+ There are many outliers in each division, with some organic avocados being cheaper than the mean conventional avocado price and vice versa"
   ]
  },
  {
   "cell_type": "markdown",
   "id": "522ddb45",
   "metadata": {},
   "source": [
    "### How does the price vary with time?"
   ]
  },
  {
   "cell_type": "markdown",
   "id": "d8dbbc93",
   "metadata": {},
   "source": [
    "+ We know that there is little correlation between price and year, but how does the price vary within each year?"
   ]
  },
  {
   "cell_type": "code",
   "execution_count": null,
   "id": "eb415416",
   "metadata": {},
   "outputs": [],
   "source": [
    "# Create month column\n",
    "avocados[\"month\"] = avocados[\"Date\"].dt.month"
   ]
  },
  {
   "cell_type": "code",
   "execution_count": null,
   "id": "493f960d",
   "metadata": {
    "scrolled": false
   },
   "outputs": [],
   "source": [
    "# Plot the mean avocado price for each division, grouped by month\n",
    "from calendar import month_name\n",
    "\n",
    "fig, ax = plt.subplots()\n",
    "ax.set_prop_cycle(color=sns.color_palette(\"bright\", 9))\n",
    "fig.set_size_inches(18.5, 10.5)\n",
    "months = range(1, 13)\n",
    "\n",
    "for division in avocados.division.unique():\n",
    "    # Some observations have a 'division' value of None\n",
    "    if division != None:\n",
    "        average_monthly_prices = avocados[avocados[\"division\"] == division].groupby(\"month\")[\"AveragePrice\"].mean()\n",
    "        ax.plot(months, average_monthly_prices, label=division)\n",
    "\n",
    "ax.set_xlabel(\"Month\")\n",
    "ax.set_xticks(months)\n",
    "ax.set_xticklabels(month_name[1:])  # Use month names as x tick labels\n",
    "ax.set_ylabel(\"Average Price [$]\")\n",
    "ax.set_xlim([1, 12])\n",
    "plt.legend(loc=\"upper left\")\n",
    "plt.show()"
   ]
  },
  {
   "cell_type": "markdown",
   "id": "021106af",
   "metadata": {},
   "source": [
    "+ In all divisions, except New England and Middle Atlantic, the price of avocados rises steadily from May and peaks in September - October before falling rapidly again\n",
    "+ Assuming that the demand for avocados does not change much, this plot suggests that (for most divisions) the supply of avocados falls from May to September-October - perhaps more avocados have to be imported during this period\n",
    "+ The plot also suggests that for some reason the supply of avocados does not vary much all year round in New England and Middle Atlantic"
   ]
  },
  {
   "cell_type": "markdown",
   "id": "39786cf4",
   "metadata": {},
   "source": [
    "### Chi-square test to see if the ratio of conventional to organic avocados bought varies between divisions"
   ]
  }
 ],
 "metadata": {
  "kernelspec": {
   "display_name": "Python 3 (ipykernel)",
   "language": "python",
   "name": "python3"
  },
  "language_info": {
   "codemirror_mode": {
    "name": "ipython",
    "version": 3
   },
   "file_extension": ".py",
   "mimetype": "text/x-python",
   "name": "python",
   "nbconvert_exporter": "python",
   "pygments_lexer": "ipython3",
   "version": "3.8.6"
  }
 },
 "nbformat": 4,
 "nbformat_minor": 5
}
